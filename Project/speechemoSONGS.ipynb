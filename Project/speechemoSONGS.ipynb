{
 "cells": [
  {
   "cell_type": "code",
   "execution_count": 3,
   "metadata": {},
   "outputs": [
    {
     "name": "stdout",
     "output_type": "stream",
     "text": [
      "Train on 1000 samples, validate on 100 samples\n",
      "Epoch 1/5\n",
      "1000/1000 [==============================] - 3s 3ms/step - loss: 11.5407 - acc: 0.0980 - val_loss: 11.7218 - val_acc: 0.1000\n",
      "Epoch 2/5\n",
      "1000/1000 [==============================] - 0s 279us/step - loss: 11.5391 - acc: 0.0900 - val_loss: 11.7237 - val_acc: 0.0800\n",
      "Epoch 3/5\n",
      "1000/1000 [==============================] - 0s 347us/step - loss: 11.5381 - acc: 0.1080 - val_loss: 11.7221 - val_acc: 0.1400\n",
      "Epoch 4/5\n",
      "1000/1000 [==============================] - 0s 317us/step - loss: 11.5381 - acc: 0.0930 - val_loss: 11.7236 - val_acc: 0.0700\n",
      "Epoch 5/5\n",
      "1000/1000 [==============================] - 0s 282us/step - loss: 11.5378 - acc: 0.0920 - val_loss: 11.7239 - val_acc: 0.0800\n"
     ]
    },
    {
     "data": {
      "text/plain": [
       "<keras.callbacks.History at 0x1d3f91cab70>"
      ]
     },
     "execution_count": 3,
     "metadata": {},
     "output_type": "execute_result"
    }
   ],
   "source": [
    "from keras.models import Sequential\n",
    "from keras.layers import LSTM, Dense\n",
    "import numpy as np\n",
    "\n",
    "data_dim = 16\n",
    "timesteps = 8\n",
    "num_classes = 10\n",
    "\n",
    "# expected input data shape: (batch_size, timesteps, data_dim)\n",
    "model = Sequential()\n",
    "model.add(LSTM(32, return_sequences=True,\n",
    "               input_shape=(timesteps, data_dim)))  # returns a sequence of vectors of dimension 32\n",
    "model.add(LSTM(32, return_sequences=True))  # returns a sequence of vectors of dimension 32\n",
    "model.add(LSTM(32))  # return a single vector of dimension 32\n",
    "model.add(Dense(10, activation='softmax'))\n",
    "\n",
    "model.compile(loss='categorical_crossentropy',\n",
    "              optimizer='rmsprop',\n",
    "              metrics=['accuracy'])\n",
    "\n",
    "# Generate dummy training data\n",
    "x_train = np.random.random((1000, timesteps, data_dim))\n",
    "y_train = np.random.random((1000, num_classes))\n",
    "\n",
    "# Generate dummy validation data\n",
    "x_val = np.random.random((100, timesteps, data_dim))\n",
    "y_val = np.random.random((100, num_classes))\n",
    "\n",
    "model.fit(x_train, y_train,\n",
    "          batch_size=64, epochs=5,\n",
    "          validation_data=(x_val, y_val))"
   ]
  },
  {
   "cell_type": "code",
   "execution_count": 7,
   "metadata": {},
   "outputs": [
    {
     "name": "stdout",
     "output_type": "stream",
     "text": [
      "(1000, 8, 16)\n"
     ]
    }
   ],
   "source": [
    "print(np.shape(x_train))"
   ]
  },
  {
   "cell_type": "code",
   "execution_count": 6,
   "metadata": {},
   "outputs": [
    {
     "name": "stdout",
     "output_type": "stream",
     "text": [
      "[0.47617616 0.29772802 0.98472507 0.19476422 0.05812085 0.35572677\n",
      " 0.45608004 0.99205198 0.18890255 0.95935109]\n"
     ]
    }
   ],
   "source": [
    "print(y_train[3])"
   ]
  },
  {
   "cell_type": "code",
   "execution_count": 1,
   "metadata": {
    "scrolled": true
   },
   "outputs": [
    {
     "name": "stderr",
     "output_type": "stream",
     "text": [
      "C:\\Users\\DELL\\Anaconda3\\lib\\site-packages\\scipy\\io\\wavfile.py:273: WavFileWarning: Chunk (non-data) not understood, skipping it.\n",
      "  WavFileWarning)\n"
     ]
    }
   ],
   "source": [
    "import numpy as np\n",
    "%matplotlib inline\n",
    "import matplotlib.pyplot as plt\n",
    "import scipy.io.wavfile\n",
    "from numpy import array\n",
    "import os\n",
    "\n",
    "path1=\"Allsongs/\"\n",
    "e1=[]\n",
    "arr1=[]\n",
    "app1=np.zeros([100000, 1011])\n",
    "i1=0\n",
    "c=0\n",
    "for filename in os.listdir(path1):\n",
    "    emo1=int(filename[7])\n",
    "    try:\n",
    "        rate1, data1 = scipy.io.wavfile.read(\"Allsongs/\"+filename)\n",
    "    except:\n",
    "        #print(\"yeah\")\n",
    "        i1=i1\n",
    "    \n",
    "    if data1.shape==(len(data1),):\n",
    "        c=c+1\n",
    "        \n",
    "        if len(data1) < 100000:\n",
    "            l=len(data1)\n",
    "            l=100000-l\n",
    "            for k in range(0,l):\n",
    "                data1=np.append(data1,0)\n",
    "\n",
    "        elif len(data1)<150000 and len(data1)>=100000:\n",
    "            l=len(data1)\n",
    "            s=l-100000\n",
    "            data1=data1[s:]\n",
    "        else:\n",
    "            data1 = data1[50000:150000]\n",
    "        for j in range(0,100000):\n",
    "            app1[j][i1]=data1[j]\n",
    "        \n",
    "        arr1.append(data1)\n",
    "        e1.append(emo1)    \n",
    "    else:\n",
    "        print(filename)\n",
    "    i1=i1+1\n",
    "    \n",
    "#print(app1.shape)\n",
    "#a1=array(arr1)\n",
    "#print(a1.dtype)\n",
    "#print(a1.shape)"
   ]
  },
  {
   "cell_type": "code",
   "execution_count": 2,
   "metadata": {},
   "outputs": [
    {
     "name": "stdout",
     "output_type": "stream",
     "text": [
      "1011\n",
      "(100000, 1011)\n",
      "1011\n",
      "(1011, 100000)\n"
     ]
    }
   ],
   "source": [
    "print(i1)\n",
    "print(app1.shape)\n",
    "print(c)\n",
    "arr1=array(arr1)\n",
    "print(arr1.shape)"
   ]
  },
  {
   "cell_type": "code",
   "execution_count": 3,
   "metadata": {},
   "outputs": [
    {
     "name": "stdout",
     "output_type": "stream",
     "text": [
      "(1011, 100000)\n",
      "(1011,)\n"
     ]
    },
    {
     "name": "stderr",
     "output_type": "stream",
     "text": [
      "Using TensorFlow backend.\n"
     ]
    },
    {
     "name": "stdout",
     "output_type": "stream",
     "text": [
      "(1011, 10, 10000)\n",
      "(1011, 6)\n"
     ]
    }
   ],
   "source": [
    "capp=app1\n",
    "capp=np.transpose(capp)\n",
    "print(capp.shape)\n",
    "e1=array(e1)\n",
    "print(e1.shape)\n",
    "\n",
    "import sklearn\n",
    "from keras.utils import to_categorical\n",
    "labels = []\n",
    "for i in range(0,1011):\n",
    "    lab=to_categorical(e1[i], 7)\n",
    "    lab=lab[1:]\n",
    "    labels.append(lab)\n",
    "    \n",
    "capp = capp.reshape(1011, 10, 10000)\n",
    "print(capp.shape)\n",
    "labels=array(labels)\n",
    "print(labels.shape)\n",
    "\n",
    "from random import shuffle\n",
    "ind_list = [i for i in range(1011)]\n",
    "shuffle(ind_list)\n",
    "train_new  = capp[ind_list,:,:]\n",
    "target_new = labels[ind_list,]"
   ]
  },
  {
   "cell_type": "code",
   "execution_count": 14,
   "metadata": {
    "scrolled": true
   },
   "outputs": [
    {
     "name": "stdout",
     "output_type": "stream",
     "text": [
      "Train on 960 samples, validate on 51 samples\n",
      "Epoch 1/20\n",
      "960/960 [==============================] - 123s 128ms/step - loss: 1.7701 - acc: 0.2354 - val_loss: 1.7897 - val_acc: 0.3137\n",
      "Epoch 2/20\n",
      "960/960 [==============================] - 20s 21ms/step - loss: 1.6811 - acc: 0.3135 - val_loss: 1.7535 - val_acc: 0.3922\n",
      "Epoch 3/20\n",
      "960/960 [==============================] - 18s 19ms/step - loss: 1.5094 - acc: 0.3885 - val_loss: 1.7222 - val_acc: 0.2745\n",
      "Epoch 4/20\n",
      "960/960 [==============================] - 18s 19ms/step - loss: 1.2857 - acc: 0.5687 - val_loss: 1.7066 - val_acc: 0.3529\n",
      "Epoch 5/20\n",
      "960/960 [==============================] - 19s 20ms/step - loss: 1.1319 - acc: 0.6188 - val_loss: 1.4574 - val_acc: 0.5686\n",
      "Epoch 6/20\n",
      "960/960 [==============================] - 18s 19ms/step - loss: 0.9672 - acc: 0.6865 - val_loss: 1.5803 - val_acc: 0.5882\n",
      "Epoch 7/20\n",
      "960/960 [==============================] - 18s 19ms/step - loss: 0.8274 - acc: 0.7146 - val_loss: 1.4147 - val_acc: 0.5686\n",
      "Epoch 8/20\n",
      "960/960 [==============================] - 18s 18ms/step - loss: 0.7045 - acc: 0.7552 - val_loss: 1.2636 - val_acc: 0.6471\n",
      "Epoch 9/20\n",
      "960/960 [==============================] - 18s 19ms/step - loss: 0.5905 - acc: 0.7969 - val_loss: 1.3077 - val_acc: 0.6471\n",
      "Epoch 10/20\n",
      "960/960 [==============================] - 27s 28ms/step - loss: 0.5223 - acc: 0.8313 - val_loss: 1.0359 - val_acc: 0.6667\n",
      "Epoch 11/20\n",
      "960/960 [==============================] - 28s 29ms/step - loss: 0.4035 - acc: 0.8667 - val_loss: 0.9750 - val_acc: 0.7647\n",
      "Epoch 12/20\n",
      "960/960 [==============================] - 31s 32ms/step - loss: 0.3379 - acc: 0.8875 - val_loss: 0.8289 - val_acc: 0.7843\n",
      "Epoch 13/20\n",
      "960/960 [==============================] - 34s 35ms/step - loss: 0.2971 - acc: 0.9156 - val_loss: 0.8212 - val_acc: 0.8039\n",
      "Epoch 14/20\n",
      "960/960 [==============================] - 35s 37ms/step - loss: 0.2278 - acc: 0.9281 - val_loss: 0.9644 - val_acc: 0.8039\n",
      "Epoch 15/20\n",
      "960/960 [==============================] - 35s 37ms/step - loss: 0.1761 - acc: 0.9417 - val_loss: 0.7908 - val_acc: 0.8627\n",
      "Epoch 16/20\n",
      "960/960 [==============================] - 34s 36ms/step - loss: 0.1380 - acc: 0.9583 - val_loss: 0.8377 - val_acc: 0.8235\n",
      "Epoch 17/20\n",
      "960/960 [==============================] - 36s 38ms/step - loss: 0.0976 - acc: 0.9719 - val_loss: 0.7921 - val_acc: 0.8235\n",
      "Epoch 18/20\n",
      "960/960 [==============================] - 34s 36ms/step - loss: 0.0879 - acc: 0.9740 - val_loss: 0.8704 - val_acc: 0.8431\n",
      "Epoch 19/20\n",
      "960/960 [==============================] - 34s 36ms/step - loss: 0.0715 - acc: 0.9802 - val_loss: 0.8718 - val_acc: 0.8235\n",
      "Epoch 20/20\n",
      "960/960 [==============================] - 34s 36ms/step - loss: 0.0485 - acc: 0.9812 - val_loss: 0.9074 - val_acc: 0.8235\n"
     ]
    }
   ],
   "source": [
    "from keras.models import Sequential\n",
    "from keras.layers import LSTM, Dense\n",
    "\n",
    "modelser1 = Sequential()\n",
    "\n",
    "#LSTM Layer1\n",
    "modelser1.add(LSTM(256, return_sequences=True, input_shape=(10, 10000)))     # returns a sequence of vectors of dimension 256\n",
    "\n",
    "#LSTM Layer2\n",
    "modelser1.add(LSTM(128, return_sequences=True))                             # returns a sequence of vectors of dimension 128\n",
    "\n",
    "#LSTM Layer3\n",
    "modelser1.add(LSTM(64))                                                    # return a single vector of dimension 64\n",
    "\n",
    "#hidden layer\n",
    "modelser1.add(Dense(32, activation='relu'))\n",
    "\n",
    "#Output layer\n",
    "modelser1.add(Dense(6, activation='softmax'))\n",
    "\n",
    "modelser1.compile(loss='categorical_crossentropy', optimizer='adam', metrics=['accuracy'])\n",
    "\n",
    "hist1 = modelser1.fit(train_new, target_new, batch_size=64, epochs=20, verbose=1, validation_split=0.05 )"
   ]
  },
  {
   "cell_type": "code",
   "execution_count": 15,
   "metadata": {},
   "outputs": [
    {
     "name": "stdout",
     "output_type": "stream",
     "text": [
      "Saved model to disk\n"
     ]
    }
   ],
   "source": [
    "# serialize model to JSON\n",
    "modelser1_json = modelser1.to_json()\n",
    "with open(\"modelser1.json\", \"w\") as json_file:\n",
    "    json_file.write(modelser1_json)\n",
    "# serialize weights to HDF5\n",
    "modelser1.save_weights(\"modelser1.h5\")\n",
    "print(\"Saved model to disk\")\n",
    "\n"
   ]
  },
  {
   "cell_type": "code",
   "execution_count": 16,
   "metadata": {},
   "outputs": [
    {
     "name": "stdout",
     "output_type": "stream",
     "text": [
      "Loaded model from disk\n"
     ]
    }
   ],
   "source": [
    "from keras.models import model_from_json\n",
    "# load json and create model\n",
    "json_file = open('modelser1.json', 'r')\n",
    "loaded_model_json = json_file.read()\n",
    "json_file.close()\n",
    "loaded_model = model_from_json(loaded_model_json)\n",
    "# load weights into new model\n",
    "loaded_model.load_weights(\"modelser1.h5\")\n",
    "print(\"Loaded model from disk\")"
   ]
  },
  {
   "cell_type": "code",
   "execution_count": 17,
   "metadata": {},
   "outputs": [
    {
     "name": "stdout",
     "output_type": "stream",
     "text": [
      "44100\n",
      "274432\n",
      "[-4312 -9714]\n",
      "274432\n"
     ]
    }
   ],
   "source": [
    "import numpy as np\n",
    "%matplotlib inline\n",
    "import matplotlib.pyplot as plt\n",
    "import scipy.io.wavfile\n",
    "rate, data = scipy.io.wavfile.read(\"RECORDING (2).wav\")\n",
    "print (rate)\n",
    "print(len(data))\n",
    "print(data[0])\n",
    "new=[]\n",
    "for b in data:\n",
    "    b=max(b[0],b[1])\n",
    "    new.append(b)\n",
    "print(len(new))    \n",
    "\n"
   ]
  },
  {
   "cell_type": "code",
   "execution_count": 18,
   "metadata": {},
   "outputs": [
    {
     "name": "stdout",
     "output_type": "stream",
     "text": [
      "2\n",
      "(2, 100000)\n",
      "\n",
      "\n",
      "Probability assigned to each emotion class as percentage:\n",
      "\n",
      "Neutral: 0.42259087786078453\n",
      "\n",
      "Calm: 0.6180996540933847\n",
      "\n",
      "Happy: 14.7580087184906\n",
      "\n",
      "Sad: 0.7286047097295523\n",
      "\n",
      "Angry: 78.35177779197693\n",
      "\n",
      "Fearful: 5.120917782187462\n",
      "\n",
      "\n",
      "Probability assigned to each emotion class as percentage:\n",
      "\n",
      "Neutral: 0.0015299354345188476\n",
      "\n",
      "Calm: 0.038830822450108826\n",
      "\n",
      "Happy: 99.65859651565552\n",
      "\n",
      "Sad: 0.055701995734125376\n",
      "\n",
      "Angry: 0.18015506211668253\n",
      "\n",
      "Fearful: 0.06518710288219154\n"
     ]
    }
   ],
   "source": [
    "l=len(new)\n",
    "c=int(l/100000)\n",
    "print(c)\n",
    "rec=[]\n",
    "i=0\n",
    "for i in range(0,c):\n",
    "    rec.append(new[100000*i:100000*(i+1)])\n",
    "rec=np.array(rec)    \n",
    "print(rec.shape)\n",
    "#rec=rec.reshape(c,10,10000)\n",
    "for i in range(0,c):\n",
    "    find=rec[i]\n",
    "    find=find.reshape(1,10,10000)\n",
    "    custom = loaded_model.predict(find)\n",
    "    percent_emot = custom[0]\n",
    "    output_emot = custom[0].tolist()\n",
    "    disp_output = \"\\n\\nProbability assigned to each emotion class as percentage:\" + \"\\n\\nNeutral: \"+ str(output_emot[0]*100)+ \"\\n\\nCalm: \"+ str(output_emot[1]*100)+ \"\\n\\nHappy: \"+ str(output_emot[2]*100)+ \"\\n\\nSad: \"+ str(output_emot[3]*100) + \"\\n\\nAngry: \"+ str(output_emot[4]*100) + \"\\n\\nFearful: \"+ str(output_emot[5]*100) \n",
    "    print(disp_output)"
   ]
  },
  {
   "cell_type": "code",
   "execution_count": 9,
   "metadata": {},
   "outputs": [
    {
     "name": "stdout",
     "output_type": "stream",
     "text": [
      "Epoch 1/1\n",
      "1011/1011 [==============================] - 127s 125ms/step - loss: 0.2112 - acc: 0.9387\n"
     ]
    }
   ],
   "source": [
    "#X_test = train_new()\n",
    "from keras.models import Sequential\n",
    "from keras.layers import LSTM, Dense, Dropout\n",
    "import keras\n",
    "loaded_model.compile(loss='categorical_crossentropy', optimizer=keras.optimizers.Adam(), metrics=['accuracy'])\n",
    "loaded_model.fit(train_new,target_new)\n",
    "y_pred =loaded_model.predict(train_new)"
   ]
  },
  {
   "cell_type": "code",
   "execution_count": 10,
   "metadata": {
    "collapsed": true
   },
   "outputs": [],
   "source": [
    "from sklearn.metrics import classification_report, confusion_matrix\n",
    "pred_list = []; actual_list = []\n",
    "predictions = loaded_model.predict(train_new)\n",
    "for i in predictions:\n",
    "    pred_list.append(np.argmax(i))\n",
    "for i in target_new:\n",
    "    actual_list.append(np.argmax(i))\n",
    "cnf_matrix=confusion_matrix(actual_list, pred_list)"
   ]
  },
  {
   "cell_type": "code",
   "execution_count": 11,
   "metadata": {
    "collapsed": true
   },
   "outputs": [],
   "source": [
    "import itertools\n",
    "import numpy as np\n",
    "import matplotlib.pyplot as plt\n",
    "\n",
    "from sklearn import svm, datasets\n",
    "from sklearn.model_selection import train_test_split\n",
    "from sklearn.metrics import confusion_matrix\n",
    "\n",
    "class_names =['angry','disgust','fear','happy','neutral','surprise','sad']\n",
    "def plot_confusion_matrix(cm, classes,\n",
    "                          normalize=False,\n",
    "                          title='Confusion matrix',\n",
    "                          cmap=plt.cm.Blues):\n",
    "    \"\"\"\n",
    "    This function prints and plots the confusion matrix.\n",
    "    Normalization can be applied by setting `normalize=True`.\n",
    "    \"\"\"\n",
    "    if normalize:\n",
    "        cm = cm.astype('float') / cm.sum(axis=1)[:, np.newaxis]\n",
    "        print(\"Normalized confusion matrix\")\n",
    "    else:\n",
    "        print('Confusion matrix, without normalization')\n",
    "\n",
    "    print(cm)\n",
    "\n",
    "    plt.imshow(cm, interpolation='nearest', cmap=cmap)\n",
    "    plt.title(title)\n",
    "    plt.colorbar()\n",
    "    tick_marks = np.arange(len(classes))\n",
    "    plt.xticks(tick_marks, classes, rotation=45)\n",
    "    plt.yticks(tick_marks, classes)\n",
    "\n",
    "    fmt = '.2f' if normalize else 'd'\n",
    "    thresh = cm.max() / 2.\n",
    "    for i, j in itertools.product(range(cm.shape[0]), range(cm.shape[1])):\n",
    "        plt.text(j, i, format(cm[i, j], fmt),\n",
    "                 horizontalalignment=\"center\",\n",
    "                 color=\"white\" if cm[i, j] > thresh else \"black\")\n",
    "\n",
    "    plt.ylabel('True label')\n",
    "    plt.xlabel('Predicted label')\n",
    "    plt.tight_layout()\n",
    "\n"
   ]
  },
  {
   "cell_type": "code",
   "execution_count": 13,
   "metadata": {
    "scrolled": true
   },
   "outputs": [
    {
     "name": "stdout",
     "output_type": "stream",
     "text": [
      "Confusion matrix, without normalization\n",
      "[[ 84   0   0   2   2   3]\n",
      " [  0 178   2   2   0   2]\n",
      " [  0   8 167   2   3   4]\n",
      " [  1   5   3 165   5   5]\n",
      " [  2   4   4  10 160   4]\n",
      " [  0   6   1   1   3 173]]\n"
     ]
    },
    {
     "data": {
      "image/png": "[encoded data removed]",
      "text/plain": [
       "<Figure size 432x288 with 2 Axes>"
      ]
     },
     "metadata": {},
     "output_type": "display_data"
    }
   ],
   "source": [
    "class_names =['neutral','calm','happy','sad','angry','fear','disgust']\n",
    "# Plot non-normalized confusion matrix\n",
    "plt.figure()\n",
    "plot_confusion_matrix(cnf_matrix, classes=class_names,\n",
    "                      title='Confusion matrix,RAVDESS-Songs[1012 samples]')\n",
    "plt.show()"
   ]
  },
  {
   "cell_type": "code",
   "execution_count": 19,
   "metadata": {},
   "outputs": [
    {
     "name": "stdout",
     "output_type": "stream",
     "text": [
      "dict_keys(['val_loss', 'val_acc', 'loss', 'acc'])\n"
     ]
    }
   ],
   "source": [
    "print(hist1.history.keys())\n"
   ]
  },
  {
   "cell_type": "code",
   "execution_count": 24,
   "metadata": {},
   "outputs": [
    {
     "data": {
      "image/png": "[encoded data removed]",
      "text/plain": [
       "<Figure size 432x288 with 1 Axes>"
      ]
     },
     "metadata": {},
     "output_type": "display_data"
    },
    {
     "data": {
      "image/png": "[encoded data removed]",
      "text/plain": [
       "<Figure size 432x288 with 1 Axes>"
      ]
     },
     "metadata": {},
     "output_type": "display_data"
    }
   ],
   "source": [
    "# summarize history for accuracy\n",
    "plt.plot(hist1.history['acc'])\n",
    "plt.plot(hist1.history['val_acc'])\n",
    "plt.title('RAVDESS-Songs Model Accuracy')\n",
    "plt.ylabel('accuracy')\n",
    "plt.xlabel('epoch')\n",
    "plt.legend(['train', 'test'], loc='upper left')\n",
    "plt.show()\n",
    "# summarize history for loss\n",
    "plt.plot(hist1.history['loss'])\n",
    "plt.plot(hist1.history['val_loss'])\n",
    "plt.title('RAVDESS-Songs Model Loss')\n",
    "plt.ylabel('loss')\n",
    "plt.xlabel('epoch')\n",
    "plt.legend(['train', 'test'], loc='upper left')\n",
    "plt.show()"
   ]
  },
  {
   "cell_type": "code",
   "execution_count": null,
   "metadata": {
    "collapsed": true
   },
   "outputs": [],
   "source": []
  },
  {
   "cell_type": "code",
   "execution_count": null,
   "metadata": {
    "collapsed": true
   },
   "outputs": [],
   "source": [
    "import numpy as np\n",
    "%matplotlib inline\n",
    "import matplotlib.pyplot as plt\n",
    "import scipy.io.wavfile\n",
    "from numpy import array\n",
    "import os\n",
    "\n",
    "path1=\"Allsongs/\"\n",
    "e1=[]\n",
    "arr1=[]\n",
    "app1=np.zeros([100000, 1011])\n",
    "i1=0\n",
    "c=0\n",
    "for filename in os.listdir(path1):\n",
    "    emo1=int(filename[7])\n",
    "    try:\n",
    "        rate1, data1 = scipy.io.wavfile.read(\"Allsongs/\"+filename)\n",
    "    except:\n",
    "        #print(\"yeah\")\n",
    "        i1=i1\n",
    "    \n",
    "    if data1.shape==(len(data1),):\n",
    "        c=c+1\n",
    "        \n",
    "        if len(data1) < 100000:\n",
    "            l=len(data1)\n",
    "            l=100000-l\n",
    "            for k in range(0,l):\n",
    "                data1=np.append(data1,0)\n",
    "\n",
    "        elif len(data1)<150000 and len(data1)>=100000:\n",
    "            l=len(data1)\n",
    "            s=l-100000\n",
    "            data1=data1[s:]\n",
    "        else:\n",
    "            data1 = data1[50000:150000]\n",
    "        for j in range(0,100000):\n",
    "            app1[j][i1]=data1[j]\n",
    "        \n",
    "        arr1.append(data1)\n",
    "        e1.append(emo1)    \n",
    "    else:\n",
    "        print(filename)\n",
    "    i1=i1+1\n",
    "    \n",
    "print(app1.shape)\n",
    "a1=array(arr1)\n",
    "#print(a1.dtype)\n",
    "print(a1.shape)"
   ]
  },
  {
   "cell_type": "code",
   "execution_count": null,
   "metadata": {
    "collapsed": true
   },
   "outputs": [],
   "source": [
    "capp=app1\n",
    "capp=np.transpose(capp)\n",
    "print(capp.shape)\n",
    "e1=array(e1)\n",
    "print(e1.shape)\n",
    "\n",
    "import sklearn\n",
    "from keras.utils import to_categorical\n",
    "labels = []\n",
    "for i in range(0,1011):\n",
    "    lab=to_categorical(e1[i], 8)\n",
    "    lab=lab[1:]\n",
    "    labels.append(lab)\n",
    "    \n",
    "capp = capp.reshape(1011, 10, 10000)\n",
    "print(capp.shape)\n",
    "labels=array(labels)\n",
    "print(labels.shape)\n",
    "\n",
    "from random import shuffle\n",
    "ind_list = [i for i in range(1011)]\n",
    "shuffle(ind_list)\n",
    "train_new  = capp[ind_list,:,:]\n",
    "target_new = labels[ind_list,]"
   ]
  },
  {
   "cell_type": "code",
   "execution_count": null,
   "metadata": {
    "collapsed": true
   },
   "outputs": [],
   "source": [
    "capp=app1\n",
    "capp=np.transpose(capp)\n",
    "print(capp.shape)\n",
    "e1=array(e1)\n",
    "print(e1.shape)\n",
    "\n",
    "import sklearn\n",
    "from keras.utils import to_categorical\n",
    "labels = []\n",
    "for i in range(0,1011):\n",
    "    lab=to_categorical(e1[i], 8)\n",
    "    lab=lab[1:]\n",
    "    labels.append(lab)\n",
    "    \n",
    "capp = capp.reshape(1011, 10, 10000)\n",
    "print(capp.shape)\n",
    "labels=array(labels)\n",
    "print(labels.shape)\n",
    "\n",
    "from random import shuffle\n",
    "ind_list = [i for i in range(1011)]\n",
    "shuffle(ind_list)\n",
    "train_new  = capp[ind_list,:,:]\n",
    "target_new = labels[ind_list,]"
   ]
  },
  {
   "cell_type": "code",
   "execution_count": null,
   "metadata": {
    "collapsed": true
   },
   "outputs": [],
   "source": [
    "from keras.models import Sequential\n",
    "from keras.layers import LSTM, Dense\n",
    "\n",
    "modelser1 = Sequential()\n",
    "\n",
    "#LSTM Layer1\n",
    "modelser1.add(LSTM(256, return_sequences=True, input_shape=(10, 10000)))     # returns a sequence of vectors of dimension 256\n",
    "\n",
    "#LSTM Layer2\n",
    "modelser1.add(LSTM(128, return_sequences=True))                             # returns a sequence of vectors of dimension 128\n",
    "\n",
    "#LSTM Layer3\n",
    "modelser1.add(LSTM(64))                                                    # return a single vector of dimension 64\n",
    "\n",
    "#hidden layer\n",
    "modelser1.add(Dense(32, activation='relu'))\n",
    "\n",
    "#Output layer\n",
    "modelser1.add(Dense(7, activation='softmax'))\n",
    "\n",
    "modelser1.compile(loss='categorical_crossentropy', optimizer='adam', metrics=['accuracy'])\n",
    "\n",
    "modelser1.fit(train_new, target_new, batch_size=64, epochs=40, verbose=1, validation_split=0.05 )"
   ]
  },
  {
   "cell_type": "code",
   "execution_count": null,
   "metadata": {
    "collapsed": true
   },
   "outputs": [],
   "source": [
    "# serialize model to JSON\n",
    "modelser1_json = modelser1.to_json()\n",
    "with open(\"modelser1.json\", \"w\") as json_file:\n",
    "    json_file.write(modelser1_json)\n",
    "# serialize weights to HDF5\n",
    "modelser1.save_weights(\"modelser1.h5\")\n",
    "print(\"Saved model to disk\")\n",
    "\n",
    "from keras.models import model_from_json\n",
    "# load json and create model\n",
    "json_file = open('modelser1.json', 'r')\n",
    "loaded_model_json = json_file.read()\n",
    "json_file.close()\n",
    "loaded_model = model_from_json(loaded_model_json)\n",
    "# load weights into new model\n",
    "loaded_model.load_weights(\"modelser1.h5\")\n",
    "print(\"Loaded model from disk\")"
   ]
  },
  {
   "cell_type": "code",
   "execution_count": null,
   "metadata": {
    "collapsed": true
   },
   "outputs": [],
   "source": [
    "import numpy as np\n",
    "%matplotlib inline\n",
    "import matplotlib.pyplot as plt\n",
    "import scipy.io.wavfile\n",
    "rate, data = scipy.io.wavfile.read(\"RECORDING.wav\")\n",
    "print (rate)\n",
    "print(len(data))\n",
    "print(data[0])\n",
    "new=[]\n",
    "for b in data:\n",
    "    b=max(b[0],b[1])\n",
    "    new.append(b)\n",
    "print(len(new))    \n",
    "\n"
   ]
  },
  {
   "cell_type": "code",
   "execution_count": null,
   "metadata": {
    "collapsed": true
   },
   "outputs": [],
   "source": [
    "l=len(new)\n",
    "c=int(l/100000)\n",
    "print(c)\n",
    "rec=[]\n",
    "i=0\n",
    "for i in range(0,c):\n",
    "    rec.append(new[100000*i:100000*(i+1)])\n",
    "rec=np.array(rec)    \n",
    "print(rec.shape)\n",
    "#rec=rec.reshape(c,10,10000)\n",
    "for i in range(0,c):\n",
    "    find=rec[i]\n",
    "    find=find.reshape(1,10,10000)\n",
    "    custom = loaded_model.predict(find)\n",
    "    percent_emot = custom[0]\n",
    "    output_emot = custom[0].tolist()\n",
    "    disp_output = \"Probability assigned to each emotion class as percentage:\" + \"\\n\\nNeutral: \"+ str(output_emot[0]*100)+ \"\\n\\nCalm: \"+ str(output_emot[1]*100)+ \"\\n\\nHappy: \"+ str(output_emot[2]*100)+ \"\\n\\nSad: \"+ str(output_emot[3]*100) + \"\\n\\nAngry: \"+ str(output_emot[4]*100) + \"\\n\\nFearful: \"+ str(output_emot[5]*100) + \"\\n\\nDisgust: \" +str(output_emot[6]*100 ) \n",
    "    print(disp_output)"
   ]
  }
 ],
 "metadata": {
  "kernelspec": {
   "display_name": "Python 3",
   "language": "python",
   "name": "python3"
  },
  "language_info": {
   "codemirror_mode": {
    "name": "ipython",
    "version": 3
   },
   "file_extension": ".py",
   "mimetype": "text/x-python",
   "name": "python",
   "nbconvert_exporter": "python",
   "pygments_lexer": "ipython3",
   "version": "3.6.5"
  }
 },
 "nbformat": 4,
 "nbformat_minor": 2
}
