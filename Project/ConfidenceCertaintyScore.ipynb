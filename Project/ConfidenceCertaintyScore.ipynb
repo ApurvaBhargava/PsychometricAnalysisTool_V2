{
 "cells": [
  {
   "cell_type": "code",
   "execution_count": 34,
   "metadata": {},
   "outputs": [
    {
     "name": "stdout",
     "output_type": "stream",
     "text": [
      "Index(['conf', 'unconf', 'cert', 'uncert'], dtype='object')\n"
     ]
    },
    {
     "name": "stderr",
     "output_type": "stream",
     "text": [
      "C:\\Users\\apurv\\Anaconda3\\lib\\site-packages\\pandas\\io\\excel.py:329: FutureWarning: The `sheetname` keyword is deprecated, use `sheet_name` instead\n",
      "  **kwds)\n"
     ]
    }
   ],
   "source": [
    "import pandas as pd\n",
    "from pandas import ExcelWriter\n",
    "from pandas import ExcelFile\n",
    "\n",
    "# Read words showing low confidence, high confidence, certainty and uncertainty (1-grams)\n",
    "# All lists require expansion for better scores\n",
    "df = pd.read_excel('confcert.xlsx', sheetname='Sheet1')\n",
    "print(df.columns)\n",
    "\n",
    "conf1, unconf1, cert1, uncert1 = [], [], [], []\n",
    "\n",
    "for i in range(len(df['conf'])):\n",
    "    conf1.append(df['conf'][i])\n",
    "for i in range(len(df['unconf'])):\n",
    "    unconf1.append(df['unconf'][i])\n",
    "for i in range(len(df['cert'])):\n",
    "    cert1.append(df['cert'][i])\n",
    "for i in range(len(df['uncert'])):\n",
    "    uncert1.append(df['uncert'][i])"
   ]
  },
  {
   "cell_type": "code",
   "execution_count": 35,
   "metadata": {},
   "outputs": [
    {
     "name": "stdout",
     "output_type": "stream",
     "text": [
      "Index(['conf', 'unconf', 'cert', 'uncert'], dtype='object')\n"
     ]
    },
    {
     "name": "stderr",
     "output_type": "stream",
     "text": [
      "C:\\Users\\apurv\\Anaconda3\\lib\\site-packages\\pandas\\io\\excel.py:329: FutureWarning: The `sheetname` keyword is deprecated, use `sheet_name` instead\n",
      "  **kwds)\n"
     ]
    }
   ],
   "source": [
    "# Read words showing low confidence, high confidence, certainty and uncertainty (2-grams)\n",
    "\n",
    "df = pd.read_excel('confcert.xlsx', sheetname='Sheet2')\n",
    "print(df.columns)\n",
    "\n",
    "conf2, unconf2, cert2, uncert2 = [], [], [], []\n",
    "\n",
    "for i in range(len(df['conf'])):\n",
    "    conf2.append(df['conf'][i])\n",
    "for i in range(len(df['unconf'])):\n",
    "    unconf2.append(df['unconf'][i])\n",
    "for i in range(len(df['cert'])):\n",
    "    cert2.append(df['cert'][i])\n",
    "for i in range(len(df['uncert'])):\n",
    "    uncert2.append(df['uncert'][i])"
   ]
  },
  {
   "cell_type": "code",
   "execution_count": 36,
   "metadata": {},
   "outputs": [
    {
     "name": "stdout",
     "output_type": "stream",
     "text": [
      "Index(['conf', 'unconf', 'cert', 'uncert'], dtype='object')\n"
     ]
    },
    {
     "name": "stderr",
     "output_type": "stream",
     "text": [
      "C:\\Users\\apurv\\Anaconda3\\lib\\site-packages\\pandas\\io\\excel.py:329: FutureWarning: The `sheetname` keyword is deprecated, use `sheet_name` instead\n",
      "  **kwds)\n"
     ]
    }
   ],
   "source": [
    "# Read words showing low confidence, high confidence, certainty and uncertainty (3-grams)\n",
    "\n",
    "df = pd.read_excel('confcert.xlsx', sheetname='Sheet3')\n",
    "print(df.columns)\n",
    "\n",
    "conf3, unconf3, cert3, uncert3 = [], [], [], []\n",
    "\n",
    "for i in range(len(df['conf'])):\n",
    "    conf3.append(df['conf'][i])\n",
    "for i in range(len(df['unconf'])):\n",
    "    unconf3.append(df['unconf'][i])\n",
    "for i in range(len(df['cert'])):\n",
    "    cert3.append(df['cert'][i])\n",
    "for i in range(len(df['uncert'])):\n",
    "    uncert3.append(df['uncert'][i])"
   ]
  },
  {
   "cell_type": "markdown",
   "metadata": {},
   "source": [
    "conf1 = {'absolute', 'absolutely', 'affirm', 'affirmative', 'affirmed', 'aim', 'assert', 'assertive', 'assure', 'assured', 'assuredly', 'belief', 'believe', 'believed', 'believing', 'bold', 'boldly', 'calm', 'can', 'capable', 'certain', 'certainly', 'certainty', 'clear', 'clearly', 'collected', 'completely', 'concluded', 'conclusive', 'conclusively', 'confidence', 'confident', 'confidently', 'conviction', 'convinced', 'courage', 'decide', 'decided', 'decidedly', 'decisive', 'decisively', 'definite', 'definitely', 'determined', 'determinedly', 'direct', 'directly', 'doubtless', 'doubtlessly', 'downright', 'ease', 'easily', 'easy', 'encouraged', 'entrust', 'faith', 'fearless', 'firm', 'firmly', 'happy', 'heartily', 'unwavering', 'hopeful', 'immediately', 'indisputably', 'instantly', 'know', 'literally', 'opine', 'opinion', 'optimistic', 'optimistically', 'outright', 'particular', 'particularly', 'passion', 'perfect', 'perfectly', 'persuade', 'persuasive', 'positive', 'positively', 'power', 'questionless', 'questionlessly', 'really', 'resolve', 'resolved', 'satisfied', 'simply', 'specific', 'specifically', 'strength', 'sure', 'surely', 'therefore', 'thorough', 'thoroughly', 'together', 'undaunted', 'undeniable', 'undeniably', 'undoubtedly', 'unquestionably', 'want', 'will', 'yeah', 'yes'}\n",
    "\n",
    "conf2 = {'beyond doubt', 'by myself', 'certain belief', 'certain of', 'complete confidence', 'confident of', 'count on', 'counted on', 'counting on', 'feel certain', 'feel sure', 'firm belief', 'firmly convinced', 'for certain', 'for sure', 'full confidence', 'fully confident', 'fully convinced', 'give confidence', 'great confidence', 'great faith', 'have faith', 'have trust', 'high hopes', 'of course', 'rest assured', 'strong belief', 'strong opinion', 'strongly believe', 'sure about', 'sure thing', 'with conviction', 'without doubt'}\n",
    "\n",
    "conf3 = {'can be confident', 'have no doubt', 'have confidence in', 'in the belief', 'know about that', 'know for certain', 'lot of confidence', 'lot of faith', 'put faith in', 'sure of it', 'sure of that', 'without a doubt', 'you got to', 'you have to'}\n",
    "\n",
    "unconf1 = {'actual', 'actually', 'allegedly', 'anxiety', 'anxious', 'apparently', 'attempt', 'bewildered', 'bother', 'concern', 'confused', 'could', 'dazed', 'difficulty', 'dilemma', 'doubtful', 'dubious', 'fear', 'guess', 'guesswork', 'hesitant', 'hopefully', 'hunch', 'impossible', 'indecisive', 'lack', 'likely', 'literally', 'lose', 'loss', 'lost', 'may', 'misgiving', 'puzzle', 'shy', 'so', 'still', 'suspect', 'suspicion', 'suspicious', 'tiresome', 'um', 'uncertain', 'uneasiness', 'uneasy', 'unnerving', 'unpredictable', 'usually', 'waver', 'well', 'wonder', 'worried', 'worrisome', 'worry', 'worrying', 'difficult', 'disbelief', 'fail', 'falter', 'maybe', 'mildly', 'mistrust', 'need', 'no', 'notion', 'often', 'perhaps', 'possibly', 'quandary', 'sense', 'try', 'quit', 'sensed', 'surprised', 'think', 'tired', 'tiring', 'trouble'}\n",
    "\n",
    "unconf2 = {'am afraid', 'cannot decide', 'funny feeling', 'give up', 'good enough', 'good luck', 'gut feeling', 'hang back', 'i cannot', 'i think', 'if only', 'it appears', 'it seems', 'just luck', 'kind of', 'little bit', 'little credit', 'little faith', 'mixed up', 'sort of', 'what if', 'not sure', 'not certain', 'got lucky', 'hope to', 'i feel', 'i just', 'no expert', 'not possible', 'sneaking suspicion', 'doubt that'}\n",
    "\n",
    "unconf3 = {'dou you mind', 'hard to say', 'it looks like', 'would you mind', 'not too sure', 'not very sure', 'not very certain', 'of the impression', 'not too certain', 'do not think', 'if it is', 'like i said', 'would it be', 'do not know', 'not so sure', 'not too certain', 'not so certain'}\n",
    "\n",
    "cert1 = {'absolutely', 'am', 'believe', 'can', 'cannot', 'certain', 'certainly', 'certainty', 'clear', 'clearly', 'could', 'decide', 'determine', 'doubtless', 'doubtlessly', 'obvious', 'obviously', 'ought', 'realise', 'should', 'undoubtedly', 'would', 'are', 'is', 'know', 'must', 'never', 'sure', 'surely', 'was', 'were', 'will', 'definitely', 'definite', 'positive'}\n",
    "\n",
    "cert2 = {'beyond doubt', 'certain belief', 'very sure', 'want to', 'will have', 'certain of', 'have to', 'need to', 'quite sure', 'no doubt', 'should have', 'quite certain', 'very certain', 'must be', 'will be', 'should be', 'would be'}\n",
    "\n",
    "cert3 = {'must have to', 'will have to', 'without a doubt', 'would have to', 'ought to have', 'should have to', 'ought to be'}\n",
    "\n",
    "uncert1 = {'allegedly', 'apparently', 'assume', 'doubt', 'doubtful', 'doubtfully', 'guess', 'imagine', 'may', 'maybe', 'might', 'perchance', 'presume', 'presuppose', 'probable', 'reckon', 'suppose', 'supposedly', 'surmise', 'uncertain', 'possible', 'possibly', 'probably', 'seems', 'unlikely', 'unsure', 'shall', 'think', 'likely', 'seemingly', 'presumably'}\n",
    "\n",
    "uncert2 = {'can have', 'could have', 'it appears', 'may have', 'not definite', 'shall have', 'would have', 'cannot decide', 'might have', 'must have', 'it seems', 'not certain', 'not decide', 'not sure', 'can be', 'could be', 'may be', 'might be', 'shall be'}\n",
    "\n",
    "uncert3 = {'could have to', 'may have to', 'shall have to', 'not too sure', 'as far as', 'not too certain', 'not very sure', 'might have to', 'not very certain', 'not so sure', 'not so certain'}"
   ]
  },
  {
   "cell_type": "code",
   "execution_count": 37,
   "metadata": {},
   "outputs": [],
   "source": [
    "from nltk.tokenize import word_tokenize\n",
    "from nltk.util import ngrams\n",
    "import re\n",
    "\n",
    "contractions = { \"ain't\": \"am not\", \"aren't\": \"are not\", \"can't\": \"cannot\", \"can't've\": \"cannot have\",\n",
    "                \"'cause\": \"because\", \"could've\": \"could have\", \"couldn't\": \"could not\", \"couldn't've\": \"could not have\",\n",
    "                \"didn't\": \"did not\", \"doesn't\": \"does not\", \"don't\": \"do not\", \"hadn't\": \"had not\", \"hadn't've\": \"had not have\",\n",
    "                \"hasn't\": \"has not\", \"haven't\": \"have not\", \"he'd\": \"he would\", \"he'd've\": \"he would have\", \"he'll\": \"he will\",\n",
    "                \"he'll've\": \"he will have\", \"he's\": \"he is\", \"how'd\": \"how did\", \"how'd'y\": \"how do you\", \"how'll\": \"how will\",\n",
    "                \"how's\": \"how is\", \"i'd\": \"i would\", \"i'd've\": \"i would have\", \"i'll\": \"i will\", \"i'll've\": \"i will have\",\n",
    "                \"i'm\": \"i am\", \"i've\": \"i have\", \"isn't\": \"is not\", \"it'd\": \"it would\", \"it'd've\": \"it would have\",\n",
    "                \"it'll\": \"it will\", \"it'll've\": \"it will have\", \"it's\": \"it is\", \"let's\": \"let us\", \"ma'am\": \"madam\",\n",
    "                \"mayn't\": \"may not\", \"might've\": \"might have\", \"mightn't\": \"might not\", \"mightn't've\": \"might not have\",\n",
    "                \"must've\": \"must have\", \"mustn't\": \"must not\", \"mustn't've\": \"must not have\", \"needn't\": \"need not\",\n",
    "                \"needn't've\": \"need not have\", \"o'clock\": \"of the clock\", \"oughtn't\": \"ought not\",\n",
    "                \"oughtn't've\": \"ought not have\", \"shan't\": \"shall not\", \"sha'n't\": \"shall not\", \"shan't've\": \"shall not have\",\n",
    "                \"she'd\": \"she would\", \"she'd've\": \"she would have\", \"she'll\": \"she will\", \"she'll've\": \"she will have\",\n",
    "                \"she's\": \"she is\", \"should've\": \"should have\", \"shouldn't\": \"should not\", \"shouldn't've\": \"should not have\",\n",
    "                \"so've\": \"so have\", \"so's\": \"so is\", \"that'd\": \"that would\", \"that'd've\": \"that would have\", \"that's\": \"that is\",\n",
    "                \"there'd\": \"there would\", \"there'd've\": \"there would have\", \"there's\": \"there is\", \"they'd\": \"they would\",\n",
    "                \"they'd've\": \"they would have\", \"they'll\": \"they will\", \"they'll've\": \"they will have\", \"they're\": \"they are\",\n",
    "                \"they've\": \"they have\", \"to've\": \"to have\", \"wasn't\": \"was not\", \"we'd\": \"we would\", \"we'd've\": \"we would have\",\n",
    "                \"we'll\": \"we will\", \"we'll've\": \"we will have\", \"we're\": \"we are\", \"we've\": \"we have\", \"weren't\": \"were not\",\n",
    "                \"what'll\": \"what will\", \"what'll've\": \"what will have\", \"what're\": \"what are\", \"what's\": \"what is\",\n",
    "                \"what've\": \"what have\", \"when's\": \"when is\", \"when've\": \"when have\", \"where'd\": \"where did\",\n",
    "                \"where's\": \"where is\", \"where've\": \"where have\", \"who'll\": \"who will\", \"who'll've\": \"who will have\",\n",
    "                \"who's\": \"who is\", \"who've\": \"who have\", \"why's\": \"why is\", \"why've\": \"why have\", \"will've\": \"will have\",\n",
    "                \"won't\": \"will not\", \"won't've\": \"will not have\", \"would've\": \"would have\", \"wouldn't\": \"would not\",\n",
    "                \"wouldn't've\": \"would not have\", \"y'all\": \"you all\", \"y'all'd\": \"you all would\",\n",
    "                \"y'all'd've\": \"you all would have\", \"y'all're\": \"you all are\", \"y'all've\": \"you all have\", \"you'd\": \"you would\",\n",
    "                \"you'd've\": \"you would have\", \"you'll\": \"you will\", \"you'll've\": \"you will have\", \"you're\": \"you are\",\n",
    "                \"you've\": \"you have\", \"ve\": \"have\", \"favor\":\"favour\", \"favorite\":\"favourite\", \"color\":\"colour\"}\n",
    "\n",
    "contrac_pattern = re.compile(r'\\b(' + '|'.join(contractions.keys()) + r')\\b')\n",
    "\n",
    "def calculate_score(text):\n",
    "    \"\"\"\n",
    "    returns confidence_score, certainty_score calculated as follows:\n",
    "    psum = weighted sum of n-grams where weight is n (confidence/ certainty related n-grams)\n",
    "    nsum = weighted sum of n-grams where weight is n (low-confidence/ uncertainty related n-grams)\n",
    "    score = (psum-nsum) / (psum+nsum)\n",
    "    score lies between -1 and 1, larger value indicates high confidence/ certainty\n",
    "    \"\"\"    \n",
    "    text = text.lower()\n",
    "    text = contrac_pattern.sub(lambda x: contractions[x.group()], text)\n",
    "    text = re.sub(r'[^a-zA-Z0-9\\s]', ' ', text)\n",
    "    grams1, grams2, grams3 = [], [], []\n",
    "    n_grams = ngrams(text.split(), 3)\n",
    "    grams3 = [' '.join(grams) for grams in n_grams]\n",
    "    n_grams = ngrams(text.split(), 2)\n",
    "    grams2 = [' '.join(grams) for grams in n_grams]\n",
    "    n_grams = ngrams(text.split(), 1)\n",
    "    grams1 = [' '.join(grams) for grams in n_grams]\n",
    "    \n",
    "    p1 = len(set(grams1).intersection(conf1))\n",
    "    p2 = len(set(grams2).intersection(conf2))\n",
    "    p3 = len(set(grams3).intersection(conf3))\n",
    "    psum = p1 + 2*p2 + 3*p3\n",
    "    n1 = len(set(grams1).intersection(unconf1))\n",
    "    n2 = len(set(grams2).intersection(unconf2))\n",
    "    n3 = len(set(grams3).intersection(unconf3))\n",
    "    nsum = n1 + 2*n2 + 3*n3\n",
    "    if (psum+nsum)!=0:\n",
    "        confidence_score = (psum-nsum)/(psum+nsum)\n",
    "    else:\n",
    "        confidence_score = 0\n",
    "    \n",
    "    p1 = len(set(grams1).intersection(cert1))\n",
    "    p2 = len(set(grams2).intersection(cert2))\n",
    "    p3 = len(set(grams3).intersection(cert3))\n",
    "    psum = p1 + 2*p2 + 3*p3\n",
    "    n1 = len(set(grams1).intersection(uncert1))\n",
    "    n2 = len(set(grams2).intersection(uncert2))\n",
    "    n3 = len(set(grams3).intersection(uncert3))\n",
    "    nsum = n1 + 2*n2 + 3*n3\n",
    "    if (psum+nsum)!=0:\n",
    "        certainty_score = (psum-nsum)/(psum+nsum)\n",
    "    else:\n",
    "        certainty_score = 0\n",
    "\n",
    "    return (confidence_score, certainty_score)"
   ]
  },
  {
   "cell_type": "code",
   "execution_count": 38,
   "metadata": {},
   "outputs": [
    {
     "name": "stdout",
     "output_type": "stream",
     "text": [
      "(1.0, 1.0)\n",
      "(0.0, -0.2)\n"
     ]
    }
   ],
   "source": [
    "print(calculate_score(\"I am absolutely sure this works!\"))\n",
    "print(calculate_score(\"We are not too sure about this\"))"
   ]
  },
  {
   "cell_type": "code",
   "execution_count": null,
   "metadata": {},
   "outputs": [],
   "source": []
  }
 ],
 "metadata": {
  "kernelspec": {
   "display_name": "Python 3",
   "language": "python",
   "name": "python3"
  },
  "language_info": {
   "codemirror_mode": {
    "name": "ipython",
    "version": 3
   },
   "file_extension": ".py",
   "mimetype": "text/x-python",
   "name": "python",
   "nbconvert_exporter": "python",
   "pygments_lexer": "ipython3",
   "version": "3.6.5"
  }
 },
 "nbformat": 4,
 "nbformat_minor": 2
}
