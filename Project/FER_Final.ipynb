{
  "nbformat": 4,
  "nbformat_minor": 0,
  "metadata": {
    "colab": {
      "name": "FER Final.ipynb",
      "provenance": [],
      "collapsed_sections": []
    },
    "kernelspec": {
      "name": "python3",
      "display_name": "Python 3"
    },
    "accelerator": "GPU"
  },
  "cells": [
    {
      "cell_type": "code",
      "metadata": {
        "id": "5HbxEgXKJfRp",
        "colab_type": "code",
        "colab": {}
      },
      "source": [
        "# Code to read csv file into Colaboratory:\n",
        "!pip install -U -q PyDrive\n",
        "from pydrive.auth import GoogleAuth\n",
        "from pydrive.drive import GoogleDrive\n",
        "from google.colab import auth\n",
        "from oauth2client.client import GoogleCredentials\n",
        "# Authenticate and create the PyDrive client.\n",
        "auth.authenticate_user()\n",
        "gauth = GoogleAuth()\n",
        "gauth.credentials = GoogleCredentials.get_application_default()\n",
        "drive = GoogleDrive(gauth)"
      ],
      "execution_count": 0,
      "outputs": []
    },
    {
      "cell_type": "code",
      "metadata": {
        "id": "Lm-D7cD7JhNe",
        "colab_type": "code",
        "colab": {}
      },
      "source": [
        "# Link of uploaded csv file\n",
        "link = 'https://drive.google.com/open?id=1cUSoRhaEY1MudvXi1zPN_-KvEZitSNI7'"
      ],
      "execution_count": 0,
      "outputs": []
    },
    {
      "cell_type": "code",
      "metadata": {
        "id": "JlMHQ-TeKS1p",
        "colab_type": "code",
        "outputId": "ed2e26bd-780c-4296-d975-76d162f24c6f",
        "colab": {
          "base_uri": "https://localhost:8080/",
          "height": 34
        }
      },
      "source": [
        "fluff, id = link.split('=')\n",
        "print (id)"
      ],
      "execution_count": 0,
      "outputs": [
        {
          "output_type": "stream",
          "text": [
            "1cUSoRhaEY1MudvXi1zPN_-KvEZitSNI7\n"
          ],
          "name": "stdout"
        }
      ]
    },
    {
      "cell_type": "code",
      "metadata": {
        "id": "f5QMIvkCKZP7",
        "colab_type": "code",
        "colab": {}
      },
      "source": [
        "downloaded = drive.CreateFile({'id':id}) \n",
        "downloaded.GetContentFile('fer2013.csv')"
      ],
      "execution_count": 0,
      "outputs": []
    },
    {
      "cell_type": "code",
      "metadata": {
        "id": "89SY7po7JfR5",
        "colab_type": "code",
        "colab": {}
      },
      "source": [
        "import pandas as pd\n",
        "import numpy as np\n",
        "\n",
        "# Read file to pandas dataframe\n",
        "df = pd.read_csv('fer2013.csv')\n",
        "lines = df.values"
      ],
      "execution_count": 0,
      "outputs": []
    },
    {
      "cell_type": "code",
      "metadata": {
        "id": "zKc_9is6QGFh",
        "colab_type": "code",
        "outputId": "71613934-460d-4b3a-b5ef-dfaa76d06c1a",
        "colab": {
          "base_uri": "https://localhost:8080/",
          "height": 51
        }
      },
      "source": [
        "print(lines[35885][2])\n",
        "num_of_instances = lines.size\n",
        "print(\"number of instances: \", num_of_instances)\n",
        "num_classes = 7"
      ],
      "execution_count": 0,
      "outputs": [
        {
          "output_type": "stream",
          "text": [
            "PrivateTest\n",
            "number of instances:  107658\n"
          ],
          "name": "stdout"
        }
      ]
    },
    {
      "cell_type": "code",
      "metadata": {
        "id": "BfedCQFATHe7",
        "colab_type": "code",
        "colab": {}
      },
      "source": [
        "!pip install -q keras"
      ],
      "execution_count": 0,
      "outputs": []
    },
    {
      "cell_type": "code",
      "metadata": {
        "id": "mg_yvGiSJfSA",
        "colab_type": "code",
        "outputId": "7d105147-f757-48d3-9565-6a3f4f843c3c",
        "colab": {
          "base_uri": "https://localhost:8080/",
          "height": 34
        }
      },
      "source": [
        "import os\n",
        "import keras\n",
        "from keras.utils import to_categorical\n",
        "x_train, y_train, x_test, y_test = [], [], [], []\n",
        "for i in range(0, 35886):\n",
        "    emotion, img, usage = lines[i][0], lines[i][1], lines[i][2]\n",
        "    val = img.split(\" \")\n",
        "    pixels = np.array(val, 'float32')\n",
        "    pixels = np.reshape(pixels, [-1, 48])\n",
        "    emotion = keras.utils.to_categorical(emotion, num_classes)\n",
        "    if 'Training' in usage:\n",
        "        y_train.append(emotion)\n",
        "        x_train.append(pixels)\n",
        "    elif 'PrivateTest' in usage:\n",
        "        y_test.append(emotion)\n",
        "        x_test.append(pixels)\n",
        "    elif 'PublicTest' in usage:\n",
        "        y_train.append(emotion)\n",
        "        x_train.append(pixels)"
      ],
      "execution_count": 0,
      "outputs": [
        {
          "output_type": "stream",
          "text": [
            "Using TensorFlow backend.\n"
          ],
          "name": "stderr"
        }
      ]
    },
    {
      "cell_type": "markdown",
      "metadata": {
        "id": "vazk3h0w_AEf",
        "colab_type": "text"
      },
      "source": [
        ""
      ]
    },
    {
      "cell_type": "code",
      "metadata": {
        "id": "-mRqZnCv_AzM",
        "colab_type": "code",
        "outputId": "4b055357-7f1f-4c6f-de90-f1a7016304b3",
        "colab": {
          "base_uri": "https://localhost:8080/",
          "height": 34
        }
      },
      "source": [
        "print(np.shape(y_train))"
      ],
      "execution_count": 0,
      "outputs": [
        {
          "output_type": "stream",
          "text": [
            "(32297, 7)\n"
          ],
          "name": "stdout"
        }
      ]
    },
    {
      "cell_type": "code",
      "metadata": {
        "id": "hrRbk7hxJfSK",
        "colab_type": "code",
        "outputId": "abb85625-4ca4-4775-82d9-e980a83fd9ea",
        "colab": {
          "base_uri": "https://localhost:8080/",
          "height": 85
        }
      },
      "source": [
        "import numpy as np\n",
        "\n",
        "x_train = np.array(x_train)\n",
        "x_train2 = []\n",
        "x_train2.append(x_train)\n",
        "x_train2 = np.array(x_train2)\n",
        "print(np.shape(x_train2))\n",
        "x_train3 = np.transpose(x_train2, (1,2,3,0))\n",
        "print(np.shape(x_train3))\n",
        "\n",
        "x_test = np.array(x_test)\n",
        "x_test2 = []\n",
        "x_test2.append(x_test)\n",
        "x_test2 = np.array(x_test2)\n",
        "print(np.shape(x_test2))\n",
        "x_test3 = np.transpose(x_test2, (1,2,3,0))\n",
        "print(np.shape(x_test3))"
      ],
      "execution_count": 0,
      "outputs": [
        {
          "output_type": "stream",
          "text": [
            "(1, 32297, 48, 48)\n",
            "(32297, 48, 48, 1)\n",
            "(1, 3589, 48, 48)\n",
            "(3589, 48, 48, 1)\n"
          ],
          "name": "stdout"
        }
      ]
    },
    {
      "cell_type": "code",
      "metadata": {
        "id": "Pq3nZBlvJfSe",
        "colab_type": "code",
        "colab": {}
      },
      "source": [
        "import keras\n",
        "from keras.preprocessing.image import ImageDataGenerator\n",
        "from keras.models import Sequential\n",
        "from keras.layers import Conv2D, MaxPooling2D, Flatten, Dense, Dropout\n",
        "from keras.callbacks import EarlyStopping\n",
        "\n",
        "# Model\n",
        "\n",
        "model = Sequential()\n",
        "\n",
        "model.add(Conv2D(64, (3, 3), activation='relu', input_shape=(48, 48, 1)))\n",
        "model.add(Conv2D(64, (3, 3), activation='relu'))\n",
        "model.add(MaxPooling2D(pool_size=(2, 2)))\n",
        "model.add(Dropout(0.25))\n",
        "\n",
        "model.add(Conv2D(128, (3, 3), activation='relu'))\n",
        "model.add(Conv2D(128, (3, 3), activation='relu'))\n",
        "\n",
        "model.add(Conv2D(128, (3, 3), activation='relu'))\n",
        "model.add(Conv2D(128, (3, 3), activation='relu'))\n",
        "model.add(MaxPooling2D(pool_size=(2, 2)))\n",
        "model.add(Dropout(0.25))\n",
        "\n",
        "model.add(Flatten())\n",
        "\n",
        "model.add(Dense(1024, activation='relu'))\n",
        "model.add(Dropout(0.5))\n",
        "\n",
        "model.add(Dense(num_classes, activation='softmax'))"
      ],
      "execution_count": 0,
      "outputs": []
    },
    {
      "cell_type": "code",
      "metadata": {
        "id": "vV5h7l2VJfSn",
        "colab_type": "code",
        "colab": {}
      },
      "source": [
        "batch_size = 256\n",
        "epochs = 50\n",
        "early_stopping = EarlyStopping(monitor='val_acc', patience=15)"
      ],
      "execution_count": 0,
      "outputs": []
    },
    {
      "cell_type": "code",
      "metadata": {
        "id": "AvUhSfppJfTD",
        "colab_type": "code",
        "colab": {}
      },
      "source": [
        "from keras.preprocessing.image import ImageDataGenerator\n",
        "\n",
        "gen = ImageDataGenerator()\n",
        "train_generator = gen.flow(x_train3, y_train, batch_size=batch_size)\n",
        "test_generator = gen.flow(x_test3, y_test, batch_size=batch_size)\n",
        "model.compile(loss='categorical_crossentropy',\n",
        "              optimizer=keras.optimizers.Adam(lr=0.0001),\n",
        "              metrics=['accuracy'])"
      ],
      "execution_count": 0,
      "outputs": []
    },
    {
      "cell_type": "code",
      "metadata": {
        "id": "S9P9ur6AJfTL",
        "colab_type": "code",
        "outputId": "a244ff2d-619c-416c-b9ca-f8be5bb5a2a1",
        "colab": {
          "base_uri": "https://localhost:8080/",
          "height": 1207
        }
      },
      "source": [
        "history = model.fit_generator(train_generator, steps_per_epoch=batch_size, epochs=epochs, validation_data=test_generator, validation_steps=len(test_generator), verbose=1, shuffle='True', callbacks=[early_stopping])"
      ],
      "execution_count": 0,
      "outputs": [
        {
          "output_type": "stream",
          "text": [
            "Epoch 1/50\n",
            "256/256 [==============================] - 59s 230ms/step - loss: 2.0315 - acc: 0.2700 - val_loss: 1.6312 - val_acc: 0.3904\n",
            "Epoch 2/50\n",
            "256/256 [==============================] - 52s 202ms/step - loss: 1.5579 - acc: 0.3992 - val_loss: 1.4465 - val_acc: 0.4494\n",
            "Epoch 3/50\n",
            "256/256 [==============================] - 52s 202ms/step - loss: 1.4092 - acc: 0.4638 - val_loss: 1.3361 - val_acc: 0.4918\n",
            "Epoch 4/50\n",
            "256/256 [==============================] - 52s 202ms/step - loss: 1.2998 - acc: 0.5064 - val_loss: 1.2443 - val_acc: 0.5336\n",
            "Epoch 5/50\n",
            "256/256 [==============================] - 52s 202ms/step - loss: 1.2105 - acc: 0.5429 - val_loss: 1.1805 - val_acc: 0.5556\n",
            "Epoch 6/50\n",
            "256/256 [==============================] - 52s 202ms/step - loss: 1.1286 - acc: 0.5792 - val_loss: 1.1402 - val_acc: 0.5779\n",
            "Epoch 7/50\n",
            "256/256 [==============================] - 52s 203ms/step - loss: 1.0435 - acc: 0.6129 - val_loss: 1.1153 - val_acc: 0.5862\n",
            "Epoch 8/50\n",
            "256/256 [==============================] - 52s 202ms/step - loss: 0.9561 - acc: 0.6469 - val_loss: 1.0936 - val_acc: 0.5965\n",
            "Epoch 9/50\n",
            "256/256 [==============================] - 52s 202ms/step - loss: 0.8652 - acc: 0.6829 - val_loss: 1.0818 - val_acc: 0.6099\n",
            "Epoch 10/50\n",
            "256/256 [==============================] - 52s 203ms/step - loss: 0.7700 - acc: 0.7174 - val_loss: 1.1002 - val_acc: 0.6108\n",
            "Epoch 11/50\n",
            "256/256 [==============================] - 52s 202ms/step - loss: 0.6822 - acc: 0.7509 - val_loss: 1.1117 - val_acc: 0.6160\n",
            "Epoch 12/50\n",
            "256/256 [==============================] - 52s 202ms/step - loss: 0.5952 - acc: 0.7827 - val_loss: 1.1522 - val_acc: 0.6188\n",
            "Epoch 13/50\n",
            "256/256 [==============================] - 52s 203ms/step - loss: 0.5226 - acc: 0.8124 - val_loss: 1.1531 - val_acc: 0.6191\n",
            "Epoch 14/50\n",
            "256/256 [==============================] - 52s 202ms/step - loss: 0.4549 - acc: 0.8362 - val_loss: 1.1745 - val_acc: 0.6266\n",
            "Epoch 15/50\n",
            "256/256 [==============================] - 52s 203ms/step - loss: 0.4007 - acc: 0.8558 - val_loss: 1.2271 - val_acc: 0.6280\n",
            "Epoch 16/50\n",
            "256/256 [==============================] - 52s 202ms/step - loss: 0.3561 - acc: 0.8736 - val_loss: 1.2856 - val_acc: 0.6244\n",
            "Epoch 17/50\n",
            "256/256 [==============================] - 52s 202ms/step - loss: 0.3160 - acc: 0.8856 - val_loss: 1.3169 - val_acc: 0.6294\n",
            "Epoch 18/50\n",
            "256/256 [==============================] - 52s 203ms/step - loss: 0.2895 - acc: 0.8971 - val_loss: 1.3397 - val_acc: 0.6311\n",
            "Epoch 19/50\n",
            "256/256 [==============================] - 52s 203ms/step - loss: 0.2564 - acc: 0.9093 - val_loss: 1.3908 - val_acc: 0.6258\n",
            "Epoch 20/50\n",
            "256/256 [==============================] - 52s 202ms/step - loss: 0.2357 - acc: 0.9175 - val_loss: 1.4232 - val_acc: 0.6317\n",
            "Epoch 21/50\n",
            "256/256 [==============================] - 52s 202ms/step - loss: 0.2220 - acc: 0.9232 - val_loss: 1.4255 - val_acc: 0.6280\n",
            "Epoch 22/50\n",
            "256/256 [==============================] - 52s 202ms/step - loss: 0.2040 - acc: 0.9281 - val_loss: 1.4735 - val_acc: 0.6216\n",
            "Epoch 23/50\n",
            "256/256 [==============================] - 52s 202ms/step - loss: 0.1852 - acc: 0.9340 - val_loss: 1.4980 - val_acc: 0.6247\n",
            "Epoch 24/50\n",
            "256/256 [==============================] - 52s 202ms/step - loss: 0.1731 - acc: 0.9402 - val_loss: 1.5142 - val_acc: 0.6266\n",
            "Epoch 25/50\n",
            "256/256 [==============================] - 52s 202ms/step - loss: 0.1638 - acc: 0.9437 - val_loss: 1.5378 - val_acc: 0.6236\n",
            "Epoch 26/50\n",
            "256/256 [==============================] - 52s 203ms/step - loss: 0.1551 - acc: 0.9469 - val_loss: 1.5840 - val_acc: 0.6252\n",
            "Epoch 27/50\n",
            "256/256 [==============================] - 52s 202ms/step - loss: 0.1454 - acc: 0.9510 - val_loss: 1.5563 - val_acc: 0.6280\n",
            "Epoch 28/50\n",
            "256/256 [==============================] - 52s 203ms/step - loss: 0.1447 - acc: 0.9508 - val_loss: 1.5767 - val_acc: 0.6255\n",
            "Epoch 29/50\n",
            "256/256 [==============================] - 52s 202ms/step - loss: 0.1344 - acc: 0.9542 - val_loss: 1.6041 - val_acc: 0.6233\n",
            "Epoch 30/50\n",
            "256/256 [==============================] - 52s 202ms/step - loss: 0.1268 - acc: 0.9567 - val_loss: 1.6233 - val_acc: 0.6211\n",
            "Epoch 31/50\n",
            "256/256 [==============================] - 52s 202ms/step - loss: 0.1182 - acc: 0.9594 - val_loss: 1.6313 - val_acc: 0.6275\n",
            "Epoch 32/50\n",
            "256/256 [==============================] - 52s 202ms/step - loss: 0.1137 - acc: 0.9615 - val_loss: 1.7063 - val_acc: 0.6247\n",
            "Epoch 33/50\n",
            "256/256 [==============================] - 52s 202ms/step - loss: 0.1093 - acc: 0.9624 - val_loss: 1.6732 - val_acc: 0.6194\n",
            "Epoch 34/50\n",
            "256/256 [==============================] - 52s 202ms/step - loss: 0.1104 - acc: 0.9629 - val_loss: 1.6784 - val_acc: 0.6211\n",
            "Epoch 35/50\n",
            "256/256 [==============================] - 52s 202ms/step - loss: 0.1036 - acc: 0.9651 - val_loss: 1.6892 - val_acc: 0.6202\n"
          ],
          "name": "stdout"
        }
      ]
    },
    {
      "cell_type": "code",
      "metadata": {
        "id": "SG4Uk_sBg2kR",
        "colab_type": "code",
        "outputId": "4f23f837-89c3-4425-f91b-e583c36bb5da",
        "colab": {
          "base_uri": "https://localhost:8080/",
          "height": 34
        }
      },
      "source": [
        "print(history)"
      ],
      "execution_count": 0,
      "outputs": [
        {
          "output_type": "stream",
          "text": [
            "<keras.callbacks.History object at 0x7f16c6088518>\n"
          ],
          "name": "stdout"
        }
      ]
    },
    {
      "cell_type": "code",
      "metadata": {
        "id": "DH66JjHMfsAc",
        "colab_type": "code",
        "outputId": "b1e81a06-1429-47b9-af4e-ddcd23e06282",
        "colab": {
          "base_uri": "https://localhost:8080/",
          "height": 927
        }
      },
      "source": [
        "import matplotlib.pyplot as plt\n",
        "plt.style.use('default')\n",
        "\n",
        "\n",
        "# summarize history for accuracy\n",
        "plt.plot(history.history['acc'])\n",
        "plt.plot(history.history['val_acc'])\n",
        "plt.title('FER2013 Dataset Accuracy')\n",
        "plt.ylabel('accuracy')\n",
        "plt.xlabel('epoch')\n",
        "plt.legend(['train', 'test'], loc='upper left')\n",
        "plt.show()\n",
        "# summarize history for loss\n",
        "plt.plot(history.history['loss'])\n",
        "plt.plot(history.history['val_loss'])\n",
        "plt.title('FER2013 Dataset Loss')\n",
        "plt.ylabel('loss')\n",
        "plt.xlabel('epoch')\n",
        "plt.legend(['train', 'test'], loc='upper left')\n",
        "plt.show()\n"
      ],
      "execution_count": 0,
      "outputs": [
        {
          "output_type": "display_data",
          "data": {
            "image/png": "[encoded data removed]",
            "text/plain": [
              "<matplotlib.figure.Figure at 0x7f096565bcf8>"
            ]
          },
          "metadata": {
            "tags": []
          }
        },
        {
          "output_type": "display_data",
          "data": {
            "image/png": "[encoded data removed]",
            "text/plain": [
              "<matplotlib.figure.Figure at 0x7f095a5425c0>"
            ]
          },
          "metadata": {
            "tags": []
          }
        }
      ]
    },
    {
      "cell_type": "code",
      "metadata": {
        "id": "NVqdig6dvBsb",
        "colab_type": "code",
        "colab": {}
      },
      "source": [
        ""
      ],
      "execution_count": 0,
      "outputs": []
    },
    {
      "cell_type": "code",
      "metadata": {
        "id": "QcumFmpzJfTd",
        "colab_type": "code",
        "outputId": "23f9c5b9-3fe5-4705-e22f-3037d874affc",
        "colab": {
          "base_uri": "https://localhost:8080/",
          "height": 85
        }
      },
      "source": [
        "train_score = model.evaluate(x_train3, np.array(y_train), verbose=0)\n",
        "print('Train loss:', train_score[0])\n",
        "print('Train accuracy:', 100*train_score[1])\n",
        "\n",
        "test_score = model.evaluate(x_test3, np.array(y_test), verbose=0)\n",
        "print('Test loss:', test_score[0])\n",
        "print('Test accuracy:', 100*test_score[1])"
      ],
      "execution_count": 0,
      "outputs": [
        {
          "output_type": "stream",
          "text": [
            "Train loss: 0.011688781018440356\n",
            "Train accuracy: 99.69037371892126\n",
            "Test loss: 1.689209274675694\n",
            "Test accuracy: 62.02284759317942\n"
          ],
          "name": "stdout"
        }
      ]
    },
    {
      "cell_type": "code",
      "metadata": {
        "id": "LG0gI1IrJfT6",
        "colab_type": "code",
        "colab": {}
      },
      "source": [
        "from sklearn.metrics import classification_report, confusion_matrix\n",
        "pred_list = []; actual_list = []\n",
        "predictions = model.predict(x_test3)\n",
        "for i in predictions:\n",
        "    pred_list.append(np.argmax(i))\n",
        "for i in y_test:\n",
        "    actual_list.append(np.argmax(i))\n",
        "cnf = confusion_matrix(actual_list, pred_list)"
      ],
      "execution_count": 0,
      "outputs": []
    },
    {
      "cell_type": "code",
      "metadata": {
        "id": "KioqnaC8w13o",
        "colab_type": "code",
        "colab": {}
      },
      "source": [
        "import itertools\n",
        "import numpy as np\n",
        "import matplotlib.pyplot as plt\n",
        "\n",
        "from sklearn import svm, datasets\n",
        "from sklearn.model_selection import train_test_split\n",
        "from sklearn.metrics import confusion_matrix\n",
        "\n",
        "class_names =['angry','disgust','fear','happy','neutral','surprise','sad']\n",
        "def plot_confusion_matrix(cm, classes,\n",
        "                          normalize=False,\n",
        "                          title='Confusion matrix',\n",
        "                          cmap=plt.cm.Blues):\n",
        "    \"\"\"\n",
        "    This function prints and plots the confusion matrix.\n",
        "    Normalization can be applied by setting `normalize=True`.\n",
        "    \"\"\"\n",
        "    if normalize:\n",
        "        cm = cm.astype('float') / cm.sum(axis=1)[:, np.newaxis]\n",
        "        print(\"Normalized confusion matrix\")\n",
        "    else:\n",
        "        print('Confusion matrix, without normalization')\n",
        "\n",
        "    print(cm)\n",
        "\n",
        "    plt.imshow(cm, interpolation='nearest', cmap=cmap)\n",
        "    plt.title(title)\n",
        "    plt.colorbar()\n",
        "    tick_marks = np.arange(len(classes))\n",
        "    plt.xticks(tick_marks, classes, rotation=45)\n",
        "    plt.yticks(tick_marks, classes)\n",
        "\n",
        "    fmt = '.2f' if normalize else 'd'\n",
        "    thresh = cm.max() / 2.\n",
        "    for i, j in itertools.product(range(cm.shape[0]), range(cm.shape[1])):\n",
        "        plt.text(j, i, format(cm[i, j], fmt),\n",
        "                 horizontalalignment=\"center\",\n",
        "                 color=\"white\" if cm[i, j] > thresh else \"black\")\n",
        "\n",
        "    plt.ylabel('True label')\n",
        "    plt.xlabel('Predicted label')\n",
        "    plt.tight_layout()\n",
        "\n"
      ],
      "execution_count": 0,
      "outputs": []
    },
    {
      "cell_type": "code",
      "metadata": {
        "id": "hL1CUdRKxCE2",
        "colab_type": "code",
        "outputId": "5e5ad9e1-feb4-4ab7-8b9f-93b5f62a92b9",
        "colab": {
          "base_uri": "https://localhost:8080/",
          "height": 623
        }
      },
      "source": [
        "class_names =['angry','disgust','fear','happy','sad','surprise','neutral']\n",
        "# Plot non-normalized confusion matrix\n",
        "plt.figure()\n",
        "plot_confusion_matrix(cnf, classes=class_names,\n",
        "                      title='Confusion matrix; FER2013[3589 samples]')\n",
        "plt.show()"
      ],
      "execution_count": 0,
      "outputs": [
        {
          "output_type": "stream",
          "text": [
            "Confusion matrix, without normalization\n",
            "[[240   4  57  44  79  15  52]\n",
            " [ 11  33   2   2   6   0   1]\n",
            " [ 65   1 226  35  87  60  54]\n",
            " [ 23   1  21 739  45  18  32]\n",
            " [ 52   1  76  62 291   7 105]\n",
            " [  8   0  34  22  12 330  10]\n",
            " [ 34   4  42  57 110  12 367]]\n"
          ],
          "name": "stdout"
        },
        {
          "output_type": "display_data",
          "data": {
            "image/png": "[encoded data removed]",
            "text/plain": [
              "<matplotlib.figure.Figure at 0x7f096374eba8>"
            ]
          },
          "metadata": {
            "tags": []
          }
        }
      ]
    },
    {
      "cell_type": "code",
      "metadata": {
        "id": "hBUtOA92JfUF",
        "colab_type": "code",
        "outputId": "57b89565-d227-4a7e-8032-3a3392faa768",
        "colab": {
          "base_uri": "https://localhost:8080/",
          "height": 34
        }
      },
      "source": [
        "# serialize model to JSON\n",
        "model_json = model.to_json()\n",
        "with open(\"model.json\", \"w\") as json_file:\n",
        "    json_file.write(model_json)\n",
        "# serialize weights to HDF5\n",
        "model.save_weights(\"model.h5\")\n",
        "print(\"Saved model to disk\")"
      ],
      "execution_count": 0,
      "outputs": [
        {
          "output_type": "stream",
          "text": [
            "Saved model to disk\n"
          ],
          "name": "stdout"
        }
      ]
    },
    {
      "cell_type": "code",
      "metadata": {
        "id": "BKZGS8QS91TO",
        "colab_type": "code",
        "outputId": "3d66dd67-0adb-4a95-d713-598bdb01243c",
        "colab": {
          "base_uri": "https://localhost:8080/",
          "height": 224
        }
      },
      "source": [
        "!apt-get install -y -qq software-properties-common python-software-properties module-init-tools\n",
        "!add-apt-repository -y ppa:alessandro-strada/ppa 2>&1 > /dev/null\n",
        "!apt-get update -qq 2>&1 > /dev/null\n",
        "!apt-get -y install -qq google-drive-ocamlfuse fuse\n",
        "from google.colab import auth\n",
        "auth.authenticate_user()\n",
        "from oauth2client.client import GoogleCredentials\n",
        "creds = GoogleCredentials.get_application_default()\n",
        "import getpass\n",
        "!google-drive-ocamlfuse -headless -id={creds.client_id} -secret={creds.client_secret} < /dev/null 2>&1 | grep URL\n",
        "vcode = getpass.getpass()\n",
        "!echo {vcode} | google-drive-ocamlfuse -headless -id={creds.client_id} -secret={creds.client_secret}"
      ],
      "execution_count": 0,
      "outputs": [
        {
          "output_type": "stream",
          "text": [
            "E: Package 'python-software-properties' has no installation candidate\n",
            "Selecting previously unselected package google-drive-ocamlfuse.\n",
            "(Reading database ... 110377 files and directories currently installed.)\n",
            "Preparing to unpack .../google-drive-ocamlfuse_0.7.1-0ubuntu3~ubuntu18.04.1_amd64.deb ...\n",
            "Unpacking google-drive-ocamlfuse (0.7.1-0ubuntu3~ubuntu18.04.1) ...\n",
            "Setting up google-drive-ocamlfuse (0.7.1-0ubuntu3~ubuntu18.04.1) ...\n",
            "Processing triggers for man-db (2.8.3-2ubuntu0.1) ...\n",
            "Please, open the following URL in a web browser: https://accounts.google.com/o/oauth2/auth?client_id=32555940559.apps.googleusercontent.com&redirect_uri=urn%3Aietf%3Awg%3Aoauth%3A2.0%3Aoob&scope=https%3A%2F%2Fwww.googleapis.com%2Fauth%2Fdrive&response_type=code&access_type=offline&approval_prompt=force\n",
            "··········\n",
            "Please, open the following URL in a web browser: https://accounts.google.com/o/oauth2/auth?client_id=32555940559.apps.googleusercontent.com&redirect_uri=urn%3Aietf%3Awg%3Aoauth%3A2.0%3Aoob&scope=https%3A%2F%2Fwww.googleapis.com%2Fauth%2Fdrive&response_type=code&access_type=offline&approval_prompt=force\n",
            "Please enter the verification code: Access token retrieved correctly.\n"
          ],
          "name": "stdout"
        }
      ]
    },
    {
      "cell_type": "code",
      "metadata": {
        "id": "hUhygJV-ANXc",
        "colab_type": "code",
        "colab": {}
      },
      "source": [
        "!mkdir -p drive\n",
        "!google-drive-ocamlfuse drive"
      ],
      "execution_count": 0,
      "outputs": []
    },
    {
      "cell_type": "code",
      "metadata": {
        "id": "WAdXtnJzASqQ",
        "colab_type": "code",
        "outputId": "bbbb73e5-dbf3-4ce3-9580-34b304becbf8",
        "colab": {
          "base_uri": "https://localhost:8080/",
          "height": 34
        }
      },
      "source": [
        "model_json = model.to_json()\n",
        "with open(\"drive/DeepLearning/model.json\", \"w\") as json_file:\n",
        "    json_file.write(model_json)\n",
        "# serialize weights to HDF5\n",
        "model.save_weights(\"drive/DeepLearning/model_weights.h5\")\n",
        "print(\"Saved model to drive\")"
      ],
      "execution_count": 0,
      "outputs": [
        {
          "output_type": "stream",
          "text": [
            "Saved model to drive\n"
          ],
          "name": "stdout"
        }
      ]
    },
    {
      "cell_type": "code",
      "metadata": {
        "id": "cSdEvJNZJfUL",
        "colab_type": "code",
        "colab": {}
      },
      "source": [
        "from keras.models import model_from_json\n",
        "# load json and create model\n",
        "json_file = open('model.json', 'r')\n",
        "loaded_model_json = json_file.read()\n",
        "json_file.close()\n",
        "loaded_model = model_from_json(loaded_model_json)\n",
        "# load weights into new model\n",
        "loaded_model.load_weights(\"model.h5\")\n",
        "print(\"Loaded model from disk\")"
      ],
      "execution_count": 0,
      "outputs": []
    },
    {
      "cell_type": "code",
      "metadata": {
        "id": "2c6AfDCVJfUR",
        "colab_type": "code",
        "colab": {}
      },
      "source": [
        "# evaluate loaded model on test data\n",
        "loaded_model.compile(loss='categorical_crossentropy',\n",
        "              optimizer=keras.optimizers.Adam(),\n",
        "              metrics=['accuracy'])\n",
        "score = loaded_model.evaluate(x_test3, np.array(y_test), verbose=0)\n",
        "print('Test loss:', test_score[0])\n",
        "print('Test accuracy:', 100*test_score[1])"
      ],
      "execution_count": 0,
      "outputs": []
    },
    {
      "cell_type": "code",
      "metadata": {
        "id": "1hG6K-b2JfUp",
        "colab_type": "code",
        "colab": {}
      },
      "source": [
        "from keras.preprocessing.image import ImageDataGenerator\n",
        "\n",
        "gen = ImageDataGenerator()\n",
        "train_generator = gen.flow(x_train3, y_train, batch_size=100)\n",
        "loaded_model.compile(loss='categorical_crossentropy',\n",
        "              optimizer=keras.optimizers.Adam(),\n",
        "              metrics=['accuracy'])\n",
        "\n",
        "loaded_model.fit_generator(train_generator, steps_per_epoch=100, epochs=3)"
      ],
      "execution_count": 0,
      "outputs": []
    },
    {
      "cell_type": "code",
      "metadata": {
        "id": "c2d-kONDJfU6",
        "colab_type": "code",
        "colab": {}
      },
      "source": [
        "# serialize model to JSON\n",
        "model_json = loaded_model.to_json()\n",
        "with open(\"model.json\", \"w\") as json_file:\n",
        "    json_file.write(model_json)\n",
        "# serialize weights to HDF5\n",
        "loaded_model.save_weights(\"model.h5\")\n",
        "print(\"Saved model to disk\")"
      ],
      "execution_count": 0,
      "outputs": []
    },
    {
      "cell_type": "code",
      "metadata": {
        "id": "ApWYG3nrJfVD",
        "colab_type": "code",
        "colab": {}
      },
      "source": [
        "test_score = loaded_model.evaluate(x_test3, np.array(y_test), verbose=0)\n",
        "print('Test loss:', test_score[0])\n",
        "print('Test accuracy:', 100*test_score[1])"
      ],
      "execution_count": 0,
      "outputs": []
    },
    {
      "cell_type": "code",
      "metadata": {
        "id": "yftr7cb3JfVP",
        "colab_type": "code",
        "colab": {}
      },
      "source": [
        "def increase_brightness(img, value=30):\n",
        "    hsv = cv2.cvtColor(img, cv2.COLOR_BGR2HSV)\n",
        "    h, s, v = cv2.split(hsv)\n",
        "\n",
        "    lim = 255 - value\n",
        "    v[v > lim] = 255\n",
        "    v[v <= lim] += value\n",
        "\n",
        "    final_hsv = cv2.merge((h, s, v))\n",
        "    img = cv2.cvtColor(final_hsv, cv2.COLOR_HSV2BGR)\n",
        "    return img"
      ],
      "execution_count": 0,
      "outputs": []
    },
    {
      "cell_type": "code",
      "metadata": {
        "id": "LWWkJ4vwJfVp",
        "colab_type": "code",
        "colab": {}
      },
      "source": [
        "import cv2\n",
        "import numpy as np\n",
        "from keras.preprocessing import image\n",
        "\n",
        "img = cv2.imread('surprise.jpg')\n",
        "img = cv2.resize(img,(48,48))\n",
        "cv2.imwrite('img_resz.png', img)\n",
        "\n",
        "#img = cv2.GaussianBlur(img, (3,3), 0)\n",
        "#img = cv2.bilateralFilter(img, 5, 50, 50)\n",
        "img = increase_brightness(img, value=30)\n",
        "cv2.imwrite('img_proc.png', img)\n",
        "\n",
        "img_gray = cv2.cvtColor(img, cv2.COLOR_BGR2GRAY)\n",
        "#cv2.imwrite('img_gray.png', img_gray)\n",
        "\n",
        "#print(img_gray)\n",
        "x = image.img_to_array(img_gray)\n",
        "x = np.expand_dims(x, axis = 0)\n",
        "x /= 255\n",
        "#print(np.shape(x))\n",
        "custom = loaded_model.predict(x)\n",
        "print(custom[0])"
      ],
      "execution_count": 0,
      "outputs": []
    },
    {
      "cell_type": "code",
      "metadata": {
        "id": "3qJxdU9GJfV_",
        "colab_type": "code",
        "colab": {}
      },
      "source": [
        "'''\n",
        "0: Angry\n",
        "1: Disgust\n",
        "2: Fear\n",
        "3: Happy\n",
        "4: Sad\n",
        "5: Surprise\n",
        "6: Neutral\n",
        "'''"
      ],
      "execution_count": 0,
      "outputs": []
    }
  ]
}